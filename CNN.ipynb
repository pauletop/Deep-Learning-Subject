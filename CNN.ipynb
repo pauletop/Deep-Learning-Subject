{
  "nbformat": 4,
  "nbformat_minor": 0,
  "metadata": {
    "colab": {
      "provenance": [],
      "authorship_tag": "ABX9TyMpibhw/m5ZJHoiKwcVRXGc",
      "include_colab_link": true
    },
    "kernelspec": {
      "name": "python3",
      "display_name": "Python 3"
    },
    "language_info": {
      "name": "python"
    }
  },
  "cells": [
    {
      "cell_type": "markdown",
      "metadata": {
        "id": "view-in-github",
        "colab_type": "text"
      },
      "source": [
        "<a href=\"https://colab.research.google.com/github/pauletop/Deep-Learning-Subject/blob/main/CNN.ipynb\" target=\"_parent\"><img src=\"https://colab.research.google.com/assets/colab-badge.svg\" alt=\"Open In Colab\"/></a>"
      ]
    },
    {
      "cell_type": "code",
      "execution_count": null,
      "metadata": {
        "id": "nGgJ_7X_gWrX"
      },
      "outputs": [],
      "source": [
        "import torch\n",
        "import torchvision\n",
        "import matplotlib.pyplot as plt\n",
        "from torchvision import transforms"
      ]
    },
    {
      "cell_type": "code",
      "source": [
        "train_dataset = torchvision.datasets.KMNIST(\n",
        "    root=\"./data/KMNIST\",\n",
        "    train=True,\n",
        "    transform=transforms.ToTensor(),\n",
        "    download=True)\n",
        "\n",
        "test_dataset = torchvision.datasets.KMNIST(\n",
        "    root=\"./data/KMNIST\",\n",
        "    train=False,\n",
        "    transform=transforms.ToTensor(),\n",
        "    download=True)"
      ],
      "metadata": {
        "colab": {
          "base_uri": "https://localhost:8080/"
        },
        "id": "yVn1CWjGggMF",
        "outputId": "d47caa60-e75a-4b62-8009-7651a9e318b1"
      },
      "execution_count": null,
      "outputs": [
        {
          "output_type": "stream",
          "name": "stdout",
          "text": [
            "Downloading http://codh.rois.ac.jp/kmnist/dataset/kmnist/train-images-idx3-ubyte.gz\n",
            "Downloading http://codh.rois.ac.jp/kmnist/dataset/kmnist/train-images-idx3-ubyte.gz to ./data/KMNIST/KMNIST/raw/train-images-idx3-ubyte.gz\n"
          ]
        },
        {
          "output_type": "stream",
          "name": "stderr",
          "text": [
            "100%|██████████| 18165135/18165135 [00:15<00:00, 1160401.58it/s]\n"
          ]
        },
        {
          "output_type": "stream",
          "name": "stdout",
          "text": [
            "Extracting ./data/KMNIST/KMNIST/raw/train-images-idx3-ubyte.gz to ./data/KMNIST/KMNIST/raw\n",
            "\n",
            "Downloading http://codh.rois.ac.jp/kmnist/dataset/kmnist/train-labels-idx1-ubyte.gz\n",
            "Downloading http://codh.rois.ac.jp/kmnist/dataset/kmnist/train-labels-idx1-ubyte.gz to ./data/KMNIST/KMNIST/raw/train-labels-idx1-ubyte.gz\n"
          ]
        },
        {
          "output_type": "stream",
          "name": "stderr",
          "text": [
            "100%|██████████| 29497/29497 [00:00<00:00, 186900.56it/s]\n"
          ]
        },
        {
          "output_type": "stream",
          "name": "stdout",
          "text": [
            "Extracting ./data/KMNIST/KMNIST/raw/train-labels-idx1-ubyte.gz to ./data/KMNIST/KMNIST/raw\n",
            "\n",
            "Downloading http://codh.rois.ac.jp/kmnist/dataset/kmnist/t10k-images-idx3-ubyte.gz\n",
            "Downloading http://codh.rois.ac.jp/kmnist/dataset/kmnist/t10k-images-idx3-ubyte.gz to ./data/KMNIST/KMNIST/raw/t10k-images-idx3-ubyte.gz\n"
          ]
        },
        {
          "output_type": "stream",
          "name": "stderr",
          "text": [
            "100%|██████████| 3041136/3041136 [00:03<00:00, 867198.00it/s] \n"
          ]
        },
        {
          "output_type": "stream",
          "name": "stdout",
          "text": [
            "Extracting ./data/KMNIST/KMNIST/raw/t10k-images-idx3-ubyte.gz to ./data/KMNIST/KMNIST/raw\n",
            "\n",
            "Downloading http://codh.rois.ac.jp/kmnist/dataset/kmnist/t10k-labels-idx1-ubyte.gz\n",
            "Downloading http://codh.rois.ac.jp/kmnist/dataset/kmnist/t10k-labels-idx1-ubyte.gz to ./data/KMNIST/KMNIST/raw/t10k-labels-idx1-ubyte.gz\n"
          ]
        },
        {
          "output_type": "stream",
          "name": "stderr",
          "text": [
            "100%|██████████| 5120/5120 [00:00<00:00, 16368015.61it/s]\n"
          ]
        },
        {
          "output_type": "stream",
          "name": "stdout",
          "text": [
            "Extracting ./data/KMNIST/KMNIST/raw/t10k-labels-idx1-ubyte.gz to ./data/KMNIST/KMNIST/raw\n",
            "\n"
          ]
        }
      ]
    },
    {
      "cell_type": "code",
      "source": [
        "batch_size = 32\n",
        "\n",
        "\n",
        "train_dataloader = torch.utils.data.DataLoader(\n",
        "    train_dataset,\n",
        "    batch_size=batch_size,\n",
        "    shuffle=True,\n",
        "    num_workers=2\n",
        ")\n",
        "\n",
        "test_dataloader = torch.utils.data.DataLoader(\n",
        "    test_dataset,\n",
        "    batch_size=batch_size,\n",
        "    shuffle=True,\n",
        "    num_workers=2\n",
        ")\n"
      ],
      "metadata": {
        "id": "1UPpxbR5gnpi"
      },
      "execution_count": null,
      "outputs": []
    },
    {
      "cell_type": "code",
      "source": [
        "classes = [\"o\", \"ki\", \"su\", \"tsu\", \"na\", \"ha\", \"ma\", \"ya\", \"re\", \"wo\"]\n",
        "\n",
        "labels_map = {\n",
        "    0:\"o\",\n",
        "    1:\"ki\",\n",
        "    2:\"su\",\n",
        "    3:\"tsu\",\n",
        "    4:\"na\",\n",
        "    5:\"ha\",\n",
        "    6:\"ma\",\n",
        "    7:\"ya\",\n",
        "    8:\"re\",\n",
        "    9:\"wo\"\n",
        "}"
      ],
      "metadata": {
        "id": "91utbxnJguHD"
      },
      "execution_count": null,
      "outputs": []
    },
    {
      "cell_type": "code",
      "source": [
        "\n",
        "figure = plt.figure(figsize=(8, 8))\n",
        "cols, rows = 3, 3\n",
        "for i in range(1, cols * rows + 1):\n",
        "    # Lấy index ngẫu nhiên\n",
        "    sample_idx = torch.randint(len(train_dataset), size=(1,)).item()\n",
        "    # Lấy dữ liệu ngẫu nhiên bằng index\n",
        "    img, label = train_dataset[sample_idx]\n",
        "    figure.add_subplot(rows, cols, i)\n",
        "    plt.title(labels_map[label])\n",
        "    plt.axis(\"off\")\n",
        "    # Vẽ ảnh\n",
        "    plt.imshow(img.squeeze(), cmap=\"gray\")\n",
        "plt.show()"
      ],
      "metadata": {
        "colab": {
          "base_uri": "https://localhost:8080/",
          "height": 675
        },
        "id": "RKLpkxN6gwrz",
        "outputId": "b60207f4-a229-4c31-d2c0-6cb278a708e0"
      },
      "execution_count": null,
      "outputs": [
        {
          "output_type": "display_data",
          "data": {
            "text/plain": [
              "<Figure size 800x800 with 9 Axes>"
            ],
            "image/png": "[encoded data removed]"
          },
          "metadata": {}
        }
      ]
    },
    {
      "cell_type": "code",
      "source": [
        "class CustomCNN(torch.nn.Module):\n",
        "    def __init__(self):\n",
        "        super(CustomCNN, self).__init__()\n",
        "        self.cnn_layers = torch.nn.Sequential(\n",
        "            # Convolutional Layer. 64 filter\n",
        "            torch.nn.Conv2d(1, 64, kernel_size=5, stride=1, padding=\"valid\"),\n",
        "            # Relu layer sau convolution\n",
        "            torch.nn.ReLU(),\n",
        "            torch.nn.Conv2d(64, 128, kernel_size=3, padding=\"valid\"),\n",
        "            torch.nn.ReLU(),\n",
        "            # Bỏ bớt 10% output từ filter layer trước\n",
        "            torch.nn.Dropout2d(0.1),\n",
        "            # Max pooling 2x2\n",
        "            torch.nn.MaxPool2d(2),\n",
        "            torch.nn.Conv2d(128, 256, kernel_size=3, padding=\"valid\"),\n",
        "            torch.nn.ReLU(),\n",
        "            torch.nn.Dropout2d(0.1),\n",
        "            torch.nn.MaxPool2d(3),\n",
        "            # Từ kết quả neuron phân bố 2D thành 1D\n",
        "            torch.nn.Flatten(start_dim=1, end_dim=-1),\n",
        "            # Bắt đầu layer Fully Connected của Neural Network bình thường\n",
        "            # Số 2304 này được lấy bằng việc chạy thử CNN trước và xem lỗi cần số input neuron của layer là bao nhiêu. Có thể tự tính, nhưng phức tạp hơn. Có thể sử dụng nn.LazyLinear để không cần quan tâm đến số input neuron\n",
        "            torch.nn.Linear(2304, 256),\n",
        "            torch.nn.ReLU(),\n",
        "            # Bỏ 10% neuron ngẫu nhiên.\n",
        "            torch.nn.Dropout(0.1),\n",
        "            torch.nn.Linear(256, 10),\n",
        "            # Layer output dự đoán ảnh thuộc label nào\n",
        "            torch.nn.Softmax()\n",
        "        )\n",
        "\n",
        "    def forward(self, X):\n",
        "        # Giống với bài blog trước về Linear Regression\n",
        "        # Chạy toàn bộ layer\n",
        "        result = self.cnn_layers(X)\n",
        "        return result"
      ],
      "metadata": {
        "id": "YftL2KbBg1vD"
      },
      "execution_count": null,
      "outputs": []
    },
    {
      "cell_type": "code",
      "source": [
        "cnn = CustomCNN()"
      ],
      "metadata": {
        "id": "uOsiSYMmg5uD"
      },
      "execution_count": null,
      "outputs": []
    },
    {
      "cell_type": "code",
      "source": [
        "device = torch.device('cuda' if torch.cuda.is_available() else 'cpu')\n",
        "device"
      ],
      "metadata": {
        "colab": {
          "base_uri": "https://localhost:8080/"
        },
        "id": "ua_MwhrJhLNj",
        "outputId": "16be95ea-6e57-46af-dbc2-e2032c27e9ef"
      },
      "execution_count": null,
      "outputs": [
        {
          "output_type": "execute_result",
          "data": {
            "text/plain": [
              "device(type='cpu')"
            ]
          },
          "metadata": {},
          "execution_count": 10
        }
      ]
    },
    {
      "cell_type": "code",
      "source": [
        "cnn = cnn.to(device)"
      ],
      "metadata": {
        "id": "7alTWRs0hNJj"
      },
      "execution_count": null,
      "outputs": []
    },
    {
      "cell_type": "code",
      "source": [
        "loss_fn = torch.nn.CrossEntropyLoss()\n",
        "optimizer = torch.optim.Adam(params=cnn.parameters(), lr=0.001, weight_decay=0.001)"
      ],
      "metadata": {
        "id": "hh8tn7N-g8wa"
      },
      "execution_count": null,
      "outputs": []
    },
    {
      "cell_type": "code",
      "source": [
        "epochs = 4\n",
        "\n",
        "for epoch in range(1, epochs + 1):\n",
        "    correct = 0\n",
        "    total_loss = 0\n",
        "    # Từ Dataloader định nghĩa ở trên, ta sẽ lấy 32 ảnh và 32 labels.\n",
        "    for X, y in train_dataloader:\n",
        "        # Chuyển dữ liệu này cho GPU hoặc CPU\n",
        "        # X là ảnh, y là label\n",
        "        X = X.to(device)\n",
        "        y = y.to(device)\n",
        "\n",
        "        # Thử đưa 32 ảnh cho model CNN để dự đoán\n",
        "        # Kết quả là cho mỗi ảnh có 10 xác xuất (tương ứng với 10 labels), xác xuất càng cao thì model càng chắc chắn về dự đoán\n",
        "        pred_y = cnn(X)\n",
        "        # Tính Cross Entropy Loss dựa vào độ sai lệch giữa dự đoán và label thật.\n",
        "        loss = loss_fn(pred_y, y)\n",
        "\n",
        "        # Phải cố tình cho gradient về 0, nếu không gradient sẽ tích trữ và học sai\n",
        "        optimizer.zero_grad()\n",
        "        # Back propagation: model tìm gradient để sửa lỗi\n",
        "        loss.backward()\n",
        "        # Sửa lại lỗi bằng cách update lại weight với gradient\n",
        "        optimizer.step()\n",
        "\n",
        "        # Ta sử dụng argmax để lấy index của chữ cái nào có xác xuất lớn nhất trong 10 chữ cái\n",
        "        processed_pred_y = torch.argmax(pred_y, dim=1)\n",
        "        correct += (processed_pred_y == y).float().sum()\n",
        "\n",
        "    total_loss += loss\n",
        "    # Tính độ chính xác của dự đoán so với label thực tế\n",
        "    accuracy = 100 * correct / len(train_dataset)\n",
        "    # In loss và độ chính xác cho mỗi epoch\n",
        "    print(f\"Epoch: {epoch}, loss: {total_loss}, accuracy: {accuracy:.2f}%\")"
      ],
      "metadata": {
        "colab": {
          "base_uri": "https://localhost:8080/"
        },
        "id": "6xp98a5og_tz",
        "outputId": "07305da7-8b5b-4528-8bcb-053551a9a37b"
      },
      "execution_count": null,
      "outputs": [
        {
          "metadata": {
            "tags": null
          },
          "name": "stderr",
          "output_type": "stream",
          "text": [
            "/usr/local/lib/python3.10/dist-packages/torch/nn/modules/module.py:1518: UserWarning: Implicit dimension choice for softmax has been deprecated. Change the call to include dim=X as an argument.\n",
            "  return self._call_impl(*args, **kwargs)\n"
          ]
        },
        {
          "metadata": {
            "tags": null
          },
          "name": "stdout",
          "output_type": "stream",
          "text": [
            "Epoch: 1, loss: 1.542388677597046, accuracy: 80.12%\n"
          ]
        }
      ]
    },
    {
      "cell_type": "code",
      "source": [
        "def test(dataloader, model):\n",
        "    correct_preds = 0\n",
        "    total = 0\n",
        "    for batch_index, (X, y) in enumerate(dataloader):\n",
        "        # Chuyển dữ liệu ảnh và label đến GPU hoặc CPU\n",
        "        X = X.to(device)\n",
        "        y = y.to(device)\n",
        "        # Cho model dự đoán\n",
        "        predictions = model(X)\n",
        "        processed_preds = torch.argmax(predictions, dim=1)\n",
        "        correct_preds += torch.sum(processed_preds==y).item()\n",
        "        total += X.shape[0]\n",
        "\n",
        "    accuracy = correct_preds/total\n",
        "    print(f\"{accuracy*100:.5f}%\")"
      ],
      "metadata": {
        "id": "uRSj7T2ChVv1"
      },
      "execution_count": null,
      "outputs": []
    }
  ]
}